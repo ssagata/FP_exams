{
 "cells": [
  {
   "cell_type": "markdown",
   "source": [
    "# Fundamentos de la Programación (Grado en Ingeniería de la Salud)\n",
    "## Ejercicio \"Repostajes\""
   ],
   "metadata": {}
  },
  {
   "cell_type": "markdown",
   "source": [
    "Antes de empezar, ejecutaremos la siguiente celda con las importaciones necesarias para poder realizar el ejercicio:"
   ],
   "metadata": {}
  },
  {
   "cell_type": "code",
   "execution_count": 1,
   "source": [
    "import csv\n",
    "from datetime import datetime\n",
    "from matplotlib import pyplot as plt\n",
    "from collections import namedtuple"
   ],
   "outputs": [],
   "metadata": {}
  },
  {
   "cell_type": "markdown",
   "source": [
    "## 1. Carga de datos (0.5 puntos)"
   ],
   "metadata": {}
  },
  {
   "cell_type": "markdown",
   "source": [
    "We will take the data from an input file called <code>Repostajes.csv</code> in which data of the gasoline refueling carried out in a vehicle are registered. The file is located in the <code>./data</code> folder. Each line of the input file corresponds to a refueling and contains the following information:\n",
    "\n",
    "- **Date:** refueling date\n",
    "- **Euros:** total amount paid\n",
    "- **Price:** price in euros/liter paid\n",
    "- **Litres:** liters introduced into the tank\n",
    "- **Mileage:** total kilometers traveled by the vehicle at the time of refueling\n",
    "- **Petrol station:** service station where the refueling was carried out\n",
    "\n",
    "Here is a snippet with the first few lines of the input file:\n",
    "\n",
    "<img src=\"./img/data.PNG\" alt=\"Drawing\" style=\"width:15cm;\"/>\n",
    "\n",
    "The first function we will implement will be the read function. It will be in charge of reading the data from the input file and loading it into a list of tuples:"
   ],
   "metadata": {}
  },
  {
   "cell_type": "code",
   "execution_count": 2,
   "source": [
    "Repostaje = namedtuple('Repostaje', 'fecha euros precio litros kilometraje gasolinera')\n",
    "\n",
    "def lee_repostajes(fichero):\n",
    "    ''' Lee el fichero de entrada y devuelve una lista de registros\n",
    "    \n",
    "    ENTRADA:\n",
    "       - fichero: nombre del fichero de entrada\n",
    "    SALIDA:\n",
    "       - lista de registros -> [Repostaje(date, float, float, float, int, str)]\n",
    "\n",
    "    Hay que transformar ciertos elementos de la entrada en valores numéricos\n",
    "    para que puedan ser procesados posteriormente.\n",
    "    \n",
    "    Las fechas deben convertirse a objetos 'datetime' con la siguiente instrucción:\n",
    "        datetime.strptime(fecha, '%d/%m/%Y').date()\n",
    "    '''\n",
    "    registros = []\n",
    "    with open(fichero, 'r', encoding='utf-8') as f:\n",
    "        lector = csv.reader(f)\n",
    "        next(lector)\n",
    "        registros = [Repostaje(datetime.strptime(fecha, '%d/%m/%Y').date(), float(euros), float(precio), float(litros), int(kilometraje), gasolinera)\n",
    "                    for fecha, euros, precio, litros, kilometraje, gasolinera in lector]\n",
    "    return registros"
   ],
   "outputs": [],
   "metadata": {}
  },
  {
   "cell_type": "code",
   "execution_count": 3,
   "source": [
    "# Test de la función lee_compras\n",
    "REGISTROS = lee_repostajes('./data/Repostajes.csv')\n",
    "\n",
    "# La salida esperada de la siguiente instrucción es: \n",
    "#    179 [Repostaje(fecha=datetime.date(2011, 10, 11, 0, 0), euros=40.0, precio=1.295, litros=30.89, kilometraje=6, gasolinera='B'), \n",
    "#         Repostaje(fecha=datetime.date(2011, 10, 15, 0, 0), euros=50.0, precio=1.302, litros=38.4, kilometraje=345, gasolinera='C')]\n",
    "print(len(REGISTROS), REGISTROS[:2])"
   ],
   "outputs": [
    {
     "output_type": "stream",
     "name": "stdout",
     "text": [
      "179 [Repostaje(fecha=datetime.date(2011, 10, 11), euros=40.0, precio=1.295, litros=30.89, kilometraje=6, gasolinera='B'), Repostaje(fecha=datetime.date(2011, 10, 15), euros=50.0, precio=1.302, litros=38.4, kilometraje=345, gasolinera='C')]\n"
     ]
    }
   ],
   "metadata": {}
  },
  {
   "cell_type": "markdown",
   "source": [
    "## 2. Consulta y filtrado (7.5 puntos)"
   ],
   "metadata": {}
  },
  {
   "cell_type": "markdown",
   "source": [
    "Una vez que hemos cargado los datos en una estructura en memoria ya podemos empezar a procesarlos. En esta sección implementaremos algunas funciones de consulta y filtrado que nos permitirán trabajar con ellos.\n",
    "\n",
    "La primera función se llama <code>calcula_gasolineras</code> y obtiene la lista de gasolineras, ordenada alfabéticamente, en las que se ha realizado algún repostaje."
   ],
   "metadata": {}
  },
  {
   "cell_type": "code",
   "execution_count": 4,
   "source": [
    "def calcula_gasolineras(registros):\n",
    "    ''' Lista ordenada de gasolineras\n",
    "    \n",
    "    ENTRADA:\n",
    "       - registros: lista de registros -> [Repostaje(date, float, float, float, int, str)]\n",
    "    SALIDA:\n",
    "       - Lista de gasolineras ordenanda alfabéticamente -> [str]\n",
    "    '''\n",
    "    return sorted({r.gasolinera for r in registros})"
   ],
   "outputs": [],
   "metadata": {}
  },
  {
   "cell_type": "code",
   "execution_count": 5,
   "source": [
    "# Test de la función calcula_gasolineras\n",
    "\n",
    "# La salida esperada de las siguientes instrucciones es: \n",
    "# ['A', 'B', 'C']\n",
    "\n",
    "print(calcula_gasolineras(REGISTROS))"
   ],
   "outputs": [
    {
     "output_type": "stream",
     "name": "stdout",
     "text": [
      "['A', 'B', 'C']\n"
     ]
    }
   ],
   "metadata": {}
  },
  {
   "cell_type": "markdown",
   "source": [
    "La siguiente función se llama <code>filtra_por_fecha_y_gasolinera</code>. Toma una lista de registros, una lista de gasolineras y dos fechas que delimitan el periodo de interés. Deberá seleccionar solamente aquellos repostajes realizados en las gasolineras indicadas y entre las fechas especificadas."
   ],
   "metadata": {}
  },
  {
   "cell_type": "code",
   "execution_count": 6,
   "source": [
    "def filtra_por_fecha_y_gasolinera(registros, gasolineras, fecha_inicio, fecha_fin):\n",
    "    ''' Selecciona registros por gasolinera y fecha\n",
    "    \n",
    "    ENTRADA:\n",
    "       - registros: lista de registros -> [Repostaje(date, float, float, float, int, str)]\n",
    "       - gasolinera: lista de gasolineras a considerar -> [str]\n",
    "       - fecha_inicio: fecha incial del periodo a considerar -> date\n",
    "       - fecha_fin: fecha final del periodo a considerar -> date\n",
    "    SALIDA:\n",
    "       - lista de registros seleccionados -> [Repostaje(date, float, float, float, int, str)]\n",
    "    '''\n",
    "    filtrados = [r for r in registros if r.gasolinera in gasolineras and fecha_inicio <= r.fecha <= fecha_fin]\n",
    "    return filtrados"
   ],
   "outputs": [],
   "metadata": {}
  },
  {
   "cell_type": "code",
   "execution_count": 7,
   "source": [
    "# Test de la función filtra_por_fecha_y_gasolinera\n",
    "gasolineras = ['B', 'C']\n",
    "inicio = datetime.strptime('01/01/2020', '%d/%m/%Y').date()\n",
    "fin = datetime.strptime('01/06/2020', '%d/%m/%Y').date()\n",
    "filtrados = filtra_por_fecha_y_gasolinera(REGISTROS, gasolineras, inicio, fin)\n",
    "\n",
    "# La salida esperada de la siguiente instrucción es: \n",
    "#    3 [Repostaje(fecha=datetime.date(2020, 1, 28, 0, 0), euros=70.25, precio=1.259, litros=55.8, kilometraje=97663, gasolinera='C'), \n",
    "#       Repostaje(fecha=datetime.date(2020, 2, 14, 0, 0), euros=46.0, precio=1.225, litros=37.55, kilometraje=98185, gasolinera='C'), \n",
    "#       Repostaje(fecha=datetime.date(2020, 2, 21, 0, 0), euros=67.6, precio=1.235, litros=54.74, kilometraje=99058, gasolinera='B')]\n",
    "print(len(filtrados), filtrados)"
   ],
   "outputs": [
    {
     "output_type": "stream",
     "name": "stdout",
     "text": [
      "3 [Repostaje(fecha=datetime.date(2020, 1, 28), euros=70.25, precio=1.259, litros=55.8, kilometraje=97663, gasolinera='C'), Repostaje(fecha=datetime.date(2020, 2, 14), euros=46.0, precio=1.225, litros=37.55, kilometraje=98185, gasolinera='C'), Repostaje(fecha=datetime.date(2020, 2, 21), euros=67.6, precio=1.235, litros=54.74, kilometraje=99058, gasolinera='B')]\n"
     ]
    }
   ],
   "metadata": {}
  },
  {
   "cell_type": "markdown",
   "source": [
    "La siguiente función se llama <code>detecta_errores</code>. Toma una lista de repostajes y produce como salida otra lista con aquellos en los que los datos de 'euros', 'precio' y 'litros' son incoherentes, teniendo en cuento un margen de error permitido."
   ],
   "metadata": {}
  },
  {
   "cell_type": "code",
   "execution_count": 8,
   "source": [
    "def detecta_errores(registros, margen=0.05):\n",
    "    ''' Identifica los repostajes con datos erróneos ('litros' * 'precio' debe ser cercano a 'euros').\n",
    "    \n",
    "    ENTRADA:\n",
    "       - registros: lista de registros -> [Repostaje(date, float, float, float, int, str)]\n",
    "       - margen: margen de error permitido entre el dato calculado ('litros' * 'precio') y el \n",
    "       registrado ('euros'). Por defecto será un 5%, es decir 'litros'*'precio' no podrá exceder o bajar en \n",
    "       más de un 5% con respecto a 'euros'.\n",
    "    SALIDA:\n",
    "       - lista de errores detectados -> [Repostaje(date, float, float, float, int, str)]\n",
    "    '''\n",
    "    errores = []\n",
    "    for r in registros:\n",
    "        euros_calculados = r.litros * r.precio\n",
    "        diferencia = abs(euros_calculados-r.euros)\n",
    "        if diferencia>margen*r.euros:\n",
    "            errores.append(r)\n",
    "\n",
    "    return errores"
   ],
   "outputs": [],
   "metadata": {}
  },
  {
   "cell_type": "code",
   "execution_count": 9,
   "source": [
    "# Test de la función detecta_errores\n",
    "\n",
    "# La salida esperada de las siguientes instrucciones es: \n",
    "# >>>> Margen=0.05\n",
    "# [Repostaje(fecha=datetime.date(2012, 8, 3), euros=50.0, precio=1.406, litros=40.56, kilometraje=15435, gasolinera='C'), \n",
    "#  Repostaje(fecha=datetime.date(2014, 4, 21), euros=500.0, precio=1.358, litros=36.82, kilometraje=31621, gasolinera='C'), \n",
    "#  Repostaje(fecha=datetime.date(2016, 10, 29), euros=30.0, precio=1.229, litros=26.57, kilometraje=58206, gasolinera='B')]\n",
    "#\n",
    "# >>>> Margen=0.15\n",
    "# [Repostaje(fecha=datetime.date(2014, 4, 21), euros=500.0, precio=1.358, litros=36.82, kilometraje=31621, gasolinera='C')]\n",
    "\n",
    "print('>>>> Margen=0.05')\n",
    "print(detecta_errores(REGISTROS))\n",
    "\n",
    "print('\\n>>>> Margen=0.15')\n",
    "print(detecta_errores(REGISTROS, margen=0.15))"
   ],
   "outputs": [
    {
     "output_type": "stream",
     "name": "stdout",
     "text": [
      ">>>> Margen=0.05\n",
      "[Repostaje(fecha=datetime.date(2012, 8, 3), euros=50.0, precio=1.406, litros=40.56, kilometraje=15435, gasolinera='C'), Repostaje(fecha=datetime.date(2014, 4, 21), euros=500.0, precio=1.358, litros=36.82, kilometraje=31621, gasolinera='C'), Repostaje(fecha=datetime.date(2016, 10, 29), euros=30.0, precio=1.229, litros=26.57, kilometraje=58206, gasolinera='B')]\n",
      "\n",
      ">>>> Margen=0.15\n",
      "[Repostaje(fecha=datetime.date(2014, 4, 21), euros=500.0, precio=1.358, litros=36.82, kilometraje=31621, gasolinera='C')]\n"
     ]
    }
   ],
   "metadata": {}
  },
  {
   "cell_type": "markdown",
   "source": [
    "La siguiente función de esta sección se llama <code>gasto_medio_por_gasolinera</code>. Toma como entrada una lista de registros y produce como salida un diccionario cuyas claves son las distintas gasolineras, y los valores son el gasto medio de los repostajes realizados en esas gasolineras."
   ],
   "metadata": {}
  },
  {
   "cell_type": "code",
   "execution_count": 10,
   "source": [
    "def gasto_medio_por_gasolinera(registros):\n",
    "    ''' Crea un diccionario con el gasto medio por gasolinera\n",
    "    \n",
    "    ENTRADA:\n",
    "       - registros: lista de registros -> [Repostaje(date, float, float, float, int, str)]\n",
    "    SALIDA:\n",
    "       - diccionario con el gasto medio -> {str: float}\n",
    "    '''\n",
    "    gastos_medios = dict()\n",
    "    gasolineras = calcula_gasolineras(registros)\n",
    "    for gasolinera in gasolineras:\n",
    "        gastos = [r.euros for r in registros if r.gasolinera == gasolinera]\n",
    "        gastos_medios[gasolinera] = sum(gastos)/len(gastos)\n",
    "    return gastos_medios"
   ],
   "outputs": [],
   "metadata": {}
  },
  {
   "cell_type": "code",
   "execution_count": 11,
   "source": [
    "# Test de la función gasto_medio_por_gasolinera\n",
    "\n",
    "# La salida esperada de las siguientes instrucciones es: \n",
    "#   52.325087719298246 49.36156862745099 59.81591549295778\n",
    "gastos_medios = gasto_medio_por_gasolinera(REGISTROS)\n",
    "print(gastos_medios['A'], gastos_medios['B'], gastos_medios['C'])"
   ],
   "outputs": [
    {
     "output_type": "stream",
     "name": "stdout",
     "text": [
      "52.325087719298246 49.36156862745099 59.81591549295778\n"
     ]
    }
   ],
   "metadata": {}
  },
  {
   "cell_type": "markdown",
   "source": [
    "La siguiente función de esta sección se llama <code>agrega_precios</code>. Toma como entrada una lista de registros y una función que indica la operación a realizar sobre la lista de precios que se obtiene a partir de dichos registros, que será lo que deba devolver la función."
   ],
   "metadata": {}
  },
  {
   "cell_type": "code",
   "execution_count": 12,
   "source": [
    "def agrega_precios(registros, operacion):\n",
    "    ''' Aplicación de una operación de agregación sobre los precios de una lista de registros\n",
    "    \n",
    "    ENTRADA:\n",
    "       - registros: lista de registros ->  [Repostaje(date, float, float, float, int, str)]\n",
    "       - operacion: nombre de función, o expresión lambda -> function ([float] -> float)\n",
    "    SALIDA:\n",
    "       - resultado de aplicar 'operacion' sobre el campo 'precio' -> float\n",
    "    '''\n",
    "    return operacion([r.precio for r in registros])"
   ],
   "outputs": [],
   "metadata": {}
  },
  {
   "cell_type": "code",
   "execution_count": 13,
   "source": [
    "### EJERCICIO: implementar dos llamadas de TEST de 'agrega_precios' que obtengan:\n",
    "#  - El precio mínimo de la lista REGISTROS\n",
    "#  - La media de precios de la lista REGISTROS\n",
    "\n",
    "# Las salidas esperadas para estas consultas son:\n",
    "#  0.949\n",
    "#  1.2591564245810054\n",
    "print(agrega_precios(REGISTROS, min))\n",
    "print(agrega_precios(REGISTROS, lambda l:sum(l)/len(l)))"
   ],
   "outputs": [
    {
     "output_type": "stream",
     "name": "stdout",
     "text": [
      "0.949\n",
      "1.2591564245810054\n"
     ]
    }
   ],
   "metadata": {}
  },
  {
   "cell_type": "markdown",
   "source": [
    "## 3. Visualización (2 puntos)"
   ],
   "metadata": {}
  },
  {
   "cell_type": "markdown",
   "source": [
    "La función de visualización que implementaremos será <code>muestra_evolucion_precio</code>. Toma como entrada una lista de registros y un año y genera una curva con el precio de la gasolina en los repostajes de ese año."
   ],
   "metadata": {}
  },
  {
   "cell_type": "code",
   "execution_count": 14,
   "source": [
    "def muestra_evolucion_precio(registros, año):\n",
    "    ''' Genera una curva con la evolución del precio de la gasolina en el año indicado.\n",
    "    \n",
    "    ENTRADA: \n",
    "       - registros: lista de registros -> [Repostaje(date, float, float, float, int, str)]\n",
    "       - año: año para el que se debe mostrar la evolución\n",
    "    SALIDA EN PANTALLA: \n",
    "       - diagrama con la evolución del precio de la gasolina\n",
    "\n",
    "    Estas son las instrucciones 'matplotlib' para trazar el gráfico a partir de:\n",
    "       - una cadena con el título que se va a mostrar en el gráfico,\n",
    "       - una lista de fechas y\n",
    "       - otra lista con los precios (con el mismo orden)\n",
    "        \n",
    "        plt.title(titulo)\n",
    "        plt.plot(l_fechas,l_precios)\n",
    "        plt.xticks(rotation=45)\n",
    "        plt.show()\n",
    "    \n",
    "    Para extraer el año de un objeto datetime podemos acceder al campo 'year' (Ejemplo: miFecha.year)\n",
    "    '''\n",
    "    filtrados = [r for r in registros if r.fecha.year == año] \n",
    "    l_fechas = [r.fecha for r in filtrados]\n",
    "    l_precios = [r.precio for r in filtrados]\n",
    "\n",
    "    # Componemos y visualizamos la gráfica\n",
    "    titulo='Evolución del precio de la gasolina'\n",
    "    plt.title(titulo)\n",
    "    plt.plot(l_fechas,l_precios)\n",
    "    plt.xticks(rotation=45)\n",
    "    plt.show()"
   ],
   "outputs": [],
   "metadata": {}
  },
  {
   "cell_type": "markdown",
   "source": [
    "La salida de la siguiente celda de test debería ser la siguiente:\n",
    "\n",
    "<img src=\"./img/evolucion.png\" alt=\"Drawing\" style=\"width:10cm;\"/>"
   ],
   "metadata": {}
  },
  {
   "cell_type": "code",
   "execution_count": 15,
   "source": [
    "# Test de la función muestra_evolucion_precio\n",
    "muestra_evolucion_precio(REGISTROS, 2018)"
   ],
   "outputs": [
    {
     "output_type": "display_data",
     "data": {
      "image/png": "[encoded data removed]",
      "text/plain": [
       "<Figure size 432x288 with 1 Axes>"
      ]
     },
     "metadata": {
      "needs_background": "light"
     }
    }
   ],
   "metadata": {}
  },
  {
   "cell_type": "code",
   "execution_count": null,
   "source": [],
   "outputs": [],
   "metadata": {}
  }
 ],
 "metadata": {
  "kernelspec": {
   "name": "python3",
   "display_name": "Python 3.8.8 64-bit ('base': conda)"
  },
  "language_info": {
   "codemirror_mode": {
    "name": "ipython",
    "version": 3
   },
   "file_extension": ".py",
   "mimetype": "text/x-python",
   "name": "python",
   "nbconvert_exporter": "python",
   "pygments_lexer": "ipython3",
   "version": "3.8.8"
  },
  "interpreter": {
   "hash": "2c667c7a07b629c8e851de71d2f299541044052ae3e814b6e0fc3f3030f67cae"
  }
 },
 "nbformat": 4,
 "nbformat_minor": 4
}