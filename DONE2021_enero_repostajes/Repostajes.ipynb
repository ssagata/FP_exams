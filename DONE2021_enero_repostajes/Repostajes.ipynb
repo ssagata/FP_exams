{
 "cells": [
  {
   "cell_type": "markdown",
   "source": [
    "# Fundamentos de la Programación (Grado en Ingeniería de la Salud)\n",
    "## Ejercicio \"Repostajes\""
   ],
   "metadata": {}
  },
  {
   "cell_type": "markdown",
   "source": [
    "Antes de empezar, ejecutaremos la siguiente celda con las importaciones necesarias para poder realizar el ejercicio:"
   ],
   "metadata": {}
  },
  {
   "cell_type": "markdown",
   "source": [
    "## 1. Carga de datos (0.5 puntos)"
   ],
   "metadata": {}
  },
  {
   "cell_type": "markdown",
   "source": [
    "We will take the data from an input file called <code>Repostajes.csv</code> in which data of the gasoline refueling carried out in a vehicle are registered. The file is located in the <code>./data</code> folder. Each line of the input file corresponds to a refueling and contains the following information:\n",
    "\n",
    "- **Date:** refueling date\n",
    "- **Euros:** total amount paid\n",
    "- **Price:** price in euros/liter paid\n",
    "- **Litres:** liters introduced into the tank\n",
    "- **Mileage:** total kilometers traveled by the vehicle at the time of refueling\n",
    "- **Petrol station:** service station where the refueling was carried out\n",
    "\n",
    "Here is a snippet with the first few lines of the input file:\n",
    "\n",
    "<img src=\"./img/data.PNG\" alt=\"Drawing\" style=\"width:15cm;\"/>\n",
    "\n",
    "The first function we will implement will be the read function. It will be in charge of reading the data from the input file and loading it into a list of tuples:"
   ],
   "metadata": {}
  },
  {
   "cell_type": "code",
   "execution_count": 32,
   "source": [
    "import csv\n",
    "from matplotlib import pyplot as plt\n",
    "from datetime import datetime\n",
    "from collections import namedtuple\n"
   ],
   "outputs": [],
   "metadata": {}
  },
  {
   "cell_type": "code",
   "execution_count": 71,
   "source": [
    "Refuelings = namedtuple('Refuelings', 'date euros_total price_per_litr liters mileage petrol_station ')\n",
    "\n",
    "def read_file(file):\n",
    "    refuelings = []\n",
    "    with open(file, 'r', encoding = 'utf-8') as f :\n",
    "        reader = csv.reader(f)\n",
    "        next(reader)\n",
    "        refuelings = [Refuelings( datetime.strptime(date,'%d/%m/%Y').date(), float(euros_total), float(price_per_litr), float(litres), int(mileage), str(petrol_station)) \n",
    "        for date, euros_total, price_per_litr, litres, mileage, petrol_station in  reader]\n",
    "    return refuelings\n",
    "\n"
   ],
   "outputs": [],
   "metadata": {}
  },
  {
   "cell_type": "code",
   "execution_count": 73,
   "source": [
    "DATA = read_file('./data/Repostajes.csv')\n",
    "print(len(DATA), DATA[:2])"
   ],
   "outputs": [
    {
     "output_type": "stream",
     "name": "stdout",
     "text": [
      "179 [Refuelings(date=datetime.date(2011, 10, 11), euros_total=40.0, price_per_litr=1.295, liters=30.89, mileage=6, petrol_station='B'), Refuelings(date=datetime.date(2011, 10, 15), euros_total=50.0, price_per_litr=1.302, liters=38.4, mileage=345, petrol_station='C')]\n"
     ]
    }
   ],
   "metadata": {}
  },
  {
   "cell_type": "markdown",
   "source": [
    "## 2. Consulta y filtrado (7.5 puntos)"
   ],
   "metadata": {}
  },
  {
   "cell_type": "markdown",
   "source": [
    "Once we have loaded the data into a memory structure we can start processing it. In this section we will implement some query and filter functions that will allow us to work with them.\n",
    "\n",
    "The first function is called <code>calcula_petroleras</code> and obtains the list of gas stations, ordered alphabetically, in which some refueling has been carried out."
   ],
   "metadata": {}
  },
  {
   "cell_type": "code",
   "execution_count": 83,
   "source": [
    "def calcula_petroleras(file):\n",
    "    list_of_stations = []\n",
    "    for f in file:\n",
    "        if f.petrol_station  not in list_of_stations:\n",
    "            list_of_stations.append(f.petrol_station)\n",
    "    list_of_stations.sort()\n",
    "    return list_of_stations\n",
    "    "
   ],
   "outputs": [],
   "metadata": {}
  },
  {
   "cell_type": "code",
   "execution_count": 84,
   "source": [
    "print(calcula_petroleras(DATA))"
   ],
   "outputs": [
    {
     "output_type": "stream",
     "name": "stdout",
     "text": [
      "['A', 'B', 'C']\n"
     ]
    }
   ],
   "metadata": {}
  },
  {
   "cell_type": "markdown",
   "source": [
    "The following function is called <code>filter_by_date_and_gas_station</code>. Take a list of records, a list of gas stations and two dates that delimit the period of interest. You must select only those refuelings carried out at the indicated gas stations and between the specified dates."
   ],
   "metadata": {}
  },
  {
   "cell_type": "code",
   "execution_count": 78,
   "source": [
    "def filter_by_date_and_gas_station(file, list_of_stations, start_date, end_date):\n",
    "    refuelings = []\n",
    "    for f in file:\n",
    "        if f not in refuelings:\n",
    "            if f.petrol_station in list_of_stations and start_date <=  f.date and f.date >= end_date:\n",
    "                refuelings.append(f)\n",
    "    return refuelings\n",
    "\n",
    "\n",
    "def test_filter_by_date_and_gas_station():\n",
    "    inicio = datetime.strptime('01/01/2020', '%d/%m/%Y').date()\n",
    "    fin = datetime.strptime('01/06/2020', '%d/%m/%Y').date()\n",
    "    print(filter_by_date_and_gas_station(DATA, ['B','C'], inicio, fin))\n",
    "    \n",
    "test_filter_by_date_and_gas_station()\n"
   ],
   "outputs": [
    {
     "output_type": "stream",
     "name": "stdout",
     "text": [
      "[Refuelings(date=datetime.date(2020, 6, 11), euros_total=62.0, price_per_litr=1.065, liters=58.22, mileage=99839, petrol_station='B'), Refuelings(date=datetime.date(2020, 7, 4), euros_total=63.5, price_per_litr=1.095, liters=57.99, mileage=100681, petrol_station='C'), Refuelings(date=datetime.date(2020, 7, 26), euros_total=53.5, price_per_litr=1.109, liters=48.24, mileage=101288, petrol_station='C'), Refuelings(date=datetime.date(2020, 9, 19), euros_total=60.16, price_per_litr=1.069, liters=56.28, mileage=102486, petrol_station='C'), Refuelings(date=datetime.date(2020, 10, 30), euros_total=62.6, price_per_litr=1.065, liters=58.78, mileage=103212, petrol_station='C')]\n"
     ]
    }
   ],
   "metadata": {}
  },
  {
   "cell_type": "markdown",
   "source": [
    "The following function is called <code>detect_errors</code>. It takes a list of refuelings and outputs another list with those in which the data for 'euros', 'price' and 'litres' are inconsistent, taking into account an allowed margin of error."
   ],
   "metadata": {}
  },
  {
   "cell_type": "code",
   "execution_count": 81,
   "source": [
    "def detect_errors(file, margin = 0.05):\n",
    "    errors = []\n",
    "    for f in file:\n",
    "        if f.price_per_litr * f.liters - f.euros_total > abs(margin) :\n",
    "            errors.append(f)\n",
    "        return errors\n",
    "\n",
    "print(detect_errors(DATA))"
   ],
   "outputs": [
    {
     "output_type": "stream",
     "name": "stdout",
     "text": [
      "[]\n"
     ]
    }
   ],
   "metadata": {}
  },
  {
   "cell_type": "code",
   "execution_count": 82,
   "source": [
    "help(dict)"
   ],
   "outputs": [
    {
     "output_type": "stream",
     "name": "stdout",
     "text": [
      "Help on class dict in module builtins:\n",
      "\n",
      "class dict(object)\n",
      " |  dict() -> new empty dictionary\n",
      " |  dict(mapping) -> new dictionary initialized from a mapping object's\n",
      " |      (key, value) pairs\n",
      " |  dict(iterable) -> new dictionary initialized as if via:\n",
      " |      d = {}\n",
      " |      for k, v in iterable:\n",
      " |          d[k] = v\n",
      " |  dict(**kwargs) -> new dictionary initialized with the name=value pairs\n",
      " |      in the keyword argument list.  For example:  dict(one=1, two=2)\n",
      " |  \n",
      " |  Built-in subclasses:\n",
      " |      StgDict\n",
      " |  \n",
      " |  Methods defined here:\n",
      " |  \n",
      " |  __contains__(self, key, /)\n",
      " |      True if the dictionary has the specified key, else False.\n",
      " |  \n",
      " |  __delitem__(self, key, /)\n",
      " |      Delete self[key].\n",
      " |  \n",
      " |  __eq__(self, value, /)\n",
      " |      Return self==value.\n",
      " |  \n",
      " |  __ge__(self, value, /)\n",
      " |      Return self>=value.\n",
      " |  \n",
      " |  __getattribute__(self, name, /)\n",
      " |      Return getattr(self, name).\n",
      " |  \n",
      " |  __getitem__(...)\n",
      " |      x.__getitem__(y) <==> x[y]\n",
      " |  \n",
      " |  __gt__(self, value, /)\n",
      " |      Return self>value.\n",
      " |  \n",
      " |  __init__(self, /, *args, **kwargs)\n",
      " |      Initialize self.  See help(type(self)) for accurate signature.\n",
      " |  \n",
      " |  __iter__(self, /)\n",
      " |      Implement iter(self).\n",
      " |  \n",
      " |  __le__(self, value, /)\n",
      " |      Return self<=value.\n",
      " |  \n",
      " |  __len__(self, /)\n",
      " |      Return len(self).\n",
      " |  \n",
      " |  __lt__(self, value, /)\n",
      " |      Return self<value.\n",
      " |  \n",
      " |  __ne__(self, value, /)\n",
      " |      Return self!=value.\n",
      " |  \n",
      " |  __repr__(self, /)\n",
      " |      Return repr(self).\n",
      " |  \n",
      " |  __reversed__(self, /)\n",
      " |      Return a reverse iterator over the dict keys.\n",
      " |  \n",
      " |  __setitem__(self, key, value, /)\n",
      " |      Set self[key] to value.\n",
      " |  \n",
      " |  __sizeof__(...)\n",
      " |      D.__sizeof__() -> size of D in memory, in bytes\n",
      " |  \n",
      " |  clear(...)\n",
      " |      D.clear() -> None.  Remove all items from D.\n",
      " |  \n",
      " |  copy(...)\n",
      " |      D.copy() -> a shallow copy of D\n",
      " |  \n",
      " |  get(self, key, default=None, /)\n",
      " |      Return the value for key if key is in the dictionary, else default.\n",
      " |  \n",
      " |  items(...)\n",
      " |      D.items() -> a set-like object providing a view on D's items\n",
      " |  \n",
      " |  keys(...)\n",
      " |      D.keys() -> a set-like object providing a view on D's keys\n",
      " |  \n",
      " |  pop(...)\n",
      " |      D.pop(k[,d]) -> v, remove specified key and return the corresponding value.\n",
      " |      If key is not found, d is returned if given, otherwise KeyError is raised\n",
      " |  \n",
      " |  popitem(self, /)\n",
      " |      Remove and return a (key, value) pair as a 2-tuple.\n",
      " |      \n",
      " |      Pairs are returned in LIFO (last-in, first-out) order.\n",
      " |      Raises KeyError if the dict is empty.\n",
      " |  \n",
      " |  setdefault(self, key, default=None, /)\n",
      " |      Insert key with a value of default if key is not in the dictionary.\n",
      " |      \n",
      " |      Return the value for key if key is in the dictionary, else default.\n",
      " |  \n",
      " |  update(...)\n",
      " |      D.update([E, ]**F) -> None.  Update D from dict/iterable E and F.\n",
      " |      If E is present and has a .keys() method, then does:  for k in E: D[k] = E[k]\n",
      " |      If E is present and lacks a .keys() method, then does:  for k, v in E: D[k] = v\n",
      " |      In either case, this is followed by: for k in F:  D[k] = F[k]\n",
      " |  \n",
      " |  values(...)\n",
      " |      D.values() -> an object providing a view on D's values\n",
      " |  \n",
      " |  ----------------------------------------------------------------------\n",
      " |  Class methods defined here:\n",
      " |  \n",
      " |  fromkeys(iterable, value=None, /) from builtins.type\n",
      " |      Create a new dictionary with keys from iterable and values set to value.\n",
      " |  \n",
      " |  ----------------------------------------------------------------------\n",
      " |  Static methods defined here:\n",
      " |  \n",
      " |  __new__(*args, **kwargs) from builtins.type\n",
      " |      Create and return a new object.  See help(type) for accurate signature.\n",
      " |  \n",
      " |  ----------------------------------------------------------------------\n",
      " |  Data and other attributes defined here:\n",
      " |  \n",
      " |  __hash__ = None\n",
      "\n"
     ]
    }
   ],
   "metadata": {}
  },
  {
   "cell_type": "markdown",
   "source": [
    "The next function in this section is called <code>average_expenditure_per_gasstation</code>. It takes as input a list of records and produces as output a dictionary whose keys are the different gas stations, and the values are the average cost of the refueling carried out at those gas stations."
   ],
   "metadata": {}
  },
  {
   "cell_type": "code",
   "execution_count": 89,
   "source": [
    "def average_expenditure_per_gasstation(file):\n",
    "    dict_ = {}\n",
    "    set_of_station = set({f.petrol_station for f in file })\n",
    "    for station in set_of_station:\n",
    "        refueling = [f.euros_total for f in file if f.petrol_station == station]\n",
    "        dict_[station] = (sum(refueling)/len(refueling))\n",
    "    return dict_\n"
   ],
   "outputs": [],
   "metadata": {}
  },
  {
   "cell_type": "code",
   "execution_count": 90,
   "source": [
    "print(average_expenditure_per_gasstation(DATA))"
   ],
   "outputs": [
    {
     "output_type": "stream",
     "name": "stdout",
     "text": [
      "{'C': 59.81591549295778, 'B': 49.36156862745099, 'A': 52.325087719298246}\n"
     ]
    }
   ],
   "metadata": {}
  },
  {
   "cell_type": "markdown",
   "source": [
    "The next function in this section is called <code>add_prices</code>. It takes as input a list of records and a function that indicates the operation to perform on the price list obtained from these records, which will be what the function must return."
   ],
   "metadata": {}
  },
  {
   "cell_type": "code",
   "execution_count": 101,
   "source": [
    "def add_prices(file,  given_function):\n",
    "\n",
    "    return given_function([f.price_per_litr for f in file ])\n",
    "   "
   ],
   "outputs": [],
   "metadata": {}
  },
  {
   "cell_type": "code",
   "execution_count": 104,
   "source": [
    "print(add_prices(DATA, min))\n",
    "print(add_prices(DATA, lambda m: sum(m)/len(m)))"
   ],
   "outputs": [
    {
     "output_type": "stream",
     "name": "stdout",
     "text": [
      "0.949\n",
      "1.2591564245810054\n"
     ]
    }
   ],
   "metadata": {}
  },
  {
   "cell_type": "code",
   "execution_count": 95,
   "source": [
    "### EJERCICIO: implementar dos llamadas de TEST de 'agrega_precios' que obtengan:\n",
    "#  - El precio mínimo de la lista REGISTROS\n",
    "#  - La media de precios de la lista REGISTROS\n",
    "\n",
    "# Las salidas esperadas para estas consultas son:\n",
    "#  0.949\n",
    "#  1.2591564245810054\n"
   ],
   "outputs": [],
   "metadata": {}
  },
  {
   "cell_type": "markdown",
   "source": [
    "## 3. Visualización (2 puntos)"
   ],
   "metadata": {}
  },
  {
   "cell_type": "markdown",
   "source": [
    "The display function that we will implement will be <code>show_price_volume</code>. It takes as input a list of records and a year and generates a curve with the price of gasoline in the refueling of that year."
   ],
   "metadata": {}
  },
  {
   "cell_type": "code",
   "execution_count": 108,
   "source": [
    "def muestra_evolucion_precio(file, given_year):\n",
    "    ''' Genera una curva con la evolución del precio de la gasolina en el año indicado.\n",
    "    \n",
    "    ENTRADA: \n",
    "       - registros: lista de registros -> [Repostaje(date, float, float, float, int, str)]\n",
    "       - año: año para el que se debe mostrar la evolución\n",
    "    SALIDA EN PANTALLA: \n",
    "       - diagrama con la evolución del precio de la gasolina\n",
    "\n",
    "    Estas son las instrucciones 'matplotlib' para trazar el gráfico a partir de:\n",
    "       - una cadena con el título que se va a mostrar en el gráfico,\n",
    "       - una lista de fechas y\n",
    "       - otra lista con los precios (con el mismo orden)\n",
    "        \n",
    "        plt.title(titulo)\n",
    "        plt.plot(l_fechas,l_precios)\n",
    "        plt.xticks(rotation=45)\n",
    "        plt.show()\n",
    "    \n",
    "    Para extraer el año de un objeto datetime podemos acceder al campo 'year' (Ejemplo: miFecha.year)\n",
    "    '''\n",
    "    list_of_the_year = [f for f in file if f.date.year == given_year ]\n",
    "    x_data = [f.date for f in list_of_the_year]\n",
    "    y_cena = [f.price_per_litr for f in list_of_the_year]\n",
    "\n",
    "    # Componemos y visualizamos la gráfica\n",
    "    titulo='Evolución del precio de la gasolina'\n",
    "    plt.title(titulo)\n",
    "    plt.plot(x_data,y_cena)\n",
    "    plt.xticks(rotation=45)\n",
    "    plt.show()"
   ],
   "outputs": [],
   "metadata": {}
  },
  {
   "cell_type": "markdown",
   "source": [
    "La salida de la siguiente celda de test debería ser la siguiente:\n",
    "\n",
    "<img src=\"./img/evolucion.png\" alt=\"Drawing\" style=\"width:10cm;\"/>"
   ],
   "metadata": {}
  },
  {
   "cell_type": "code",
   "execution_count": 109,
   "source": [
    "# Test de la función muestra_evolucion_precio\n",
    "muestra_evolucion_precio(DATA, 2018)"
   ],
   "outputs": [
    {
     "output_type": "display_data",
     "data": {
      "image/png": "[encoded data removed]",
      "text/plain": [
       "<Figure size 432x288 with 1 Axes>"
      ]
     },
     "metadata": {
      "needs_background": "light"
     }
    }
   ],
   "metadata": {}
  },
  {
   "cell_type": "code",
   "execution_count": null,
   "source": [],
   "outputs": [],
   "metadata": {}
  }
 ],
 "metadata": {
  "kernelspec": {
   "name": "python3",
   "display_name": "Python 3.8.8 64-bit ('base': conda)"
  },
  "language_info": {
   "codemirror_mode": {
    "name": "ipython",
    "version": 3
   },
   "file_extension": ".py",
   "mimetype": "text/x-python",
   "name": "python",
   "nbconvert_exporter": "python",
   "pygments_lexer": "ipython3",
   "version": "3.8.8"
  },
  "interpreter": {
   "hash": "2c667c7a07b629c8e851de71d2f299541044052ae3e814b6e0fc3f3030f67cae"
  }
 },
 "nbformat": 4,
 "nbformat_minor": 4
}