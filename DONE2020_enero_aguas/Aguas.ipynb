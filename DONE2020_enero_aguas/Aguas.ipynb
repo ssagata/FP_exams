{
 "cells": [
  {
   "cell_type": "markdown",
   "metadata": {},
   "source": [
    "# Fundamentos de la Programación (Grado en Ingeniería de la Salud)\n",
    "## Ejercicio \"Aguas en explotaciones agrícolas\" (14 de enero de 2020) - Grupo 1"
   ]
  },
  {
   "cell_type": "markdown",
   "metadata": {},
   "source": [
    "Antes de empezar, ejecutaremos la siguiente celda con las importaciones necesarias para poder realizar el ejercicio:"
   ]
  },
  {
   "cell_type": "code",
   "execution_count": null,
   "metadata": {},
   "outputs": [],
   "source": [
    "import csv\n",
    "from datetime import datetime\n",
    "from matplotlib import pyplot as plt\n",
    "from collections import namedtuple"
   ]
  },
  {
   "cell_type": "markdown",
   "metadata": {},
   "source": [
    "## 1. Carga de datos (0.5 puntos)"
   ]
  },
  {
   "cell_type": "markdown",
   "metadata": {},
   "source": [
    "Tomaremos la información de un fichero de entrada llamado <code>aguas_explotaciones_agricolas.csv</code> en el que se encuentran registrados datos de las cantidades de agua utilizadas en distintos tipos de cultivo, organizadas por comunidades autónomas y por años, desde el año 2000 hasta el 2016. El fichero se encuentra en la carpeta <code>./data</code>. Cada línea del fichero de entrada contiene las siguientes informaciones:\n",
    "\n",
    "- **C.A.:** Nombre de la comunidad autónoma\n",
    "- **Año:** Año en el que se registró la cantidad de agua (entre 2000 y 2016)\n",
    "- **Tipo de cultivo** Nombre del tipo de cultivo\n",
    "- **Litros:** Número entero con los litros gastados en el tipo de cultivo, año y comunidad autónoma de la misma línea\n",
    "\n",
    "\n",
    "He aquí un fragmento con las primeras líneas del fichero de entrada:\n",
    "\n",
    "<img src=\"./img/fichero.jpg\" alt=\"Drawing\" style=\"width:10cm;\"/>\n",
    "    \n",
    "La primera función que implementaremos será la de lectura. Será la encargada de leer los datos del fichero de entrada y cargarlos en una lista de tuplas:"
   ]
  },
  {
   "cell_type": "code",
   "execution_count": null,
   "metadata": {},
   "outputs": [],
   "source": [
    "Aguas = namedtuple('Aguas', 'comunidad año tipo litros')\n",
    "\n",
    "def lee_aguas(fichero):\n",
    "    ''' Lee el fichero de entrada y devuelve una lista de registros\n",
    "    \n",
    "    ENTRADA:\n",
    "       - fichero: nombre del fichero de entrada\n",
    "    SALIDA:\n",
    "       - lista de registros -> [Aguas(str, int, str, int)]\n",
    "    '''\n",
    "    pass"
   ]
  },
  {
   "cell_type": "code",
   "execution_count": null,
   "metadata": {},
   "outputs": [],
   "source": [
    "# TEST de 'lee_aguas', la salida esperada es:\n",
    "# 935 [Aguas(comunidad='Andalucía', año=2000, tipo='Herbáceos', litros=997486), \n",
    "#Aguas(comunidad='Andalucía', año=2000, tipo='Frutales', litros=481004), \n",
    "#Aguas(comunidad='Andalucía', año=2000, tipo='Olivar y Viñedo', litros=441654)]\n",
    "\n",
    "REGISTROS = lee_aguas('./datos/aguas_explotaciones_agricolas.csv')\n",
    "print(len(REGISTROS), REGISTROS[:3])"
   ]
  },
  {
   "cell_type": "markdown",
   "metadata": {},
   "source": [
    "## 2. Consulta y filtrado (7.5 puntos)"
   ]
  },
  {
   "cell_type": "markdown",
   "metadata": {},
   "source": [
    "Una vez que hemos cargado los datos en una estructura en memoria ya podemos empezar a procesarlos. En esta sección implementaremos algunas funciones de consulta y filtrado que nos permitirán trabajar con ellos.\n",
    "\n",
    "La primera función se llama <code>gastos_por_cultivo_en_año</code> y devuelve una lista de tuplas con la comunidad, el tipo de cultivo y el gasto en litro de agua de un año concreto, recibido como parámetro:"
   ]
  },
  {
   "cell_type": "code",
   "execution_count": null,
   "metadata": {},
   "outputs": [],
   "source": [
    "def gastos_por_cultivo_en_año(registros,año):\n",
    "    ''' Devuelve una lista de tuplas con la comunidad, el tipo de cultivo y el gasto en litro de agua de un año concreto,\n",
    "        recibido como parámetro\n",
    "\n",
    "    ENTRADA:\n",
    "       - registros: lista de registros ->  [Aguas(str, int, str, int)]\n",
    "       - año: valor del año -> int\n",
    "    SALIDA:\n",
    "       - lista de tuplas de tres valores ->  [(str, str, int)]\n",
    "    '''\n",
    "    pass"
   ]
  },
  {
   "cell_type": "code",
   "execution_count": null,
   "metadata": {},
   "outputs": [],
   "source": [
    "# TEST de 'gastos_por_cultivo_en_año', la salida esperada es:\n",
    "#[('Andalucía', 'Herbáceos', 1231579), ('Andalucía', 'Frutales', 904452), ('Andalucía', 'Olivar y Viñedo', 765116)]\n",
    "\n",
    "print(gastos_por_cultivo_en_año(REGISTROS,2016)[:3])"
   ]
  },
  {
   "cell_type": "markdown",
   "metadata": {},
   "source": [
    "La siguiente función es <code>mayor_gasto_en_comunidad</code>. La función toma una lista de registros y el nombre de una comunidad. Devuelve el registro con mayor gasto en litros de agua en dicha comunidad autónoma:"
   ]
  },
  {
   "cell_type": "code",
   "execution_count": null,
   "metadata": {},
   "outputs": [],
   "source": [
    "def mayor_gasto_en_comunidad(registros, comunidad=None):\n",
    "    ''' Devuelve el registro con el mayor gasto de agua correspondiente a una comunidad. Su valor por defecto es None,\n",
    "    y en ese caso se devolverá el registro con mayor gasto de todas las comunidades\n",
    "\n",
    "    ENTRADA:\n",
    "       - registros: lista de registros ->  [Aguas(str, int, str, int)]\n",
    "       - comunidad: nombre de la comunidad -> str\n",
    "    SALIDA:\n",
    "       - registro con mayor gasto en una comunidad ->  Aguas(str, int, str, int)\n",
    "    '''\n",
    "    pass"
   ]
  },
  {
   "cell_type": "markdown",
   "metadata": {},
   "source": [
    "A continuación se pide implementar en la siguiente celda dos llamadas de TEST a esta función:"
   ]
  },
  {
   "cell_type": "code",
   "execution_count": null,
   "metadata": {},
   "outputs": [],
   "source": [
    "# EJERCICIO: implementar dos llamadas de TEST de 'mayor_gasto_en_comunidad' que obtengan:\n",
    "#   - El registro con mayor gasto de agua en todas las comunidades\n",
    "#   - El registro con mayor gasto de agua en Andalucía\n",
    "\n",
    "# Las salidas esperadas para estas consultas son:\n",
    "#Aguas(comunidad='Aragón', año=2011, tipo='Herbáceos', litros=2221102)\n",
    "#Aguas(comunidad='Andalucía', año=2008, tipo='Olivar y Viñedo', litros=1817248)\n",
    "\n",
    "pass"
   ]
  },
  {
   "cell_type": "markdown",
   "metadata": {},
   "source": [
    "La siguiente función es <code>diferencia_anual_litros</code>. La función toma una lista de registros,  el nombre de una comunidad, y un tipo de cultivo. Devuelve una lista de tuplas, constando cada tupla de dos años consecutivos y la variación en el número de litros entre esos dos años:"
   ]
  },
  {
   "cell_type": "code",
   "execution_count": null,
   "metadata": {},
   "outputs": [],
   "source": [
    "def diferencia_anual_litros(registros,comunidad,tipo):\n",
    "    '''\n",
    "    Calcula las variaciones anuales del número de libros para un tipo de cultivo y en una\n",
    "    comunidad determinada. La función devuelve una lista de tuplas, constando cada tupla\n",
    "    de dos años consecutivos y la variación en el número de litros entre esos años.\n",
    "    \n",
    "    La lista de tuplas debe estar ordenada cronológicamente.\n",
    "    \n",
    "    ENTRADA:\n",
    "     - registros: lista de registros ->  [Aguas(str, int, str, int)]\n",
    "     - comunidad: nombre de una comunidad -> str\n",
    "     - tipo: nombre de un tipo de cultivo -> str\n",
    "\n",
    "    SALIDA:\n",
    "     - lista de tuplas (año_1, año_2, variación), siendo año_1 y año_2 dos años consecutivos\n",
    "     y variación la variación en el número de litros para esos años. La lista debe estar ordenada\n",
    "     cronológicamente (es decir, de menor a mayor año). -> [(int, int, int)]\n",
    "    '''\n",
    "    pass"
   ]
  },
  {
   "cell_type": "code",
   "execution_count": null,
   "metadata": {},
   "outputs": [],
   "source": [
    "# TEST de 'diferencia_anual_litros', la salida esperada es:\n",
    "#Mostrando incrementos y decrementos interanuales en el número de litros empleados en Andalucía para Olivar y Viñedo:\n",
    "\n",
    "#2000 -> 2001: 133809\n",
    "#2001 -> 2002: 14722\n",
    "#2002 -> 2003: -33746\n",
    "#2003 -> 2004: 1080180\n",
    "#2004 -> 2005: -383003\n",
    "#2005 -> 2006: 214268\n",
    "#2006 -> 2007: 346370\n",
    "#2007 -> 2008: 2994\n",
    "#2008 -> 2009: -241650\n",
    "#2009 -> 2010: 26676\n",
    "#2010 -> 2011: -421550\n",
    "#2011 -> 2012: -316209\n",
    "#2012 -> 2013: 171985\n",
    "#2013 -> 2014: -84818\n",
    "#2014 -> 2015: -123106\n",
    "#2015 -> 2016: -63460\n",
    "\n",
    "print('Mostrando incrementos y decrementos interanuales en el número de litros empleados en Andalucía para Olivar y Viñedo:\\n')\n",
    "for a1, a2, variacion in diferencia_anual_litros(REGISTROS, 'Andalucía', 'Olivar y Viñedo'):\n",
    "    print('{:} -> {:}: {:}'.format(a1, a2, variacion))"
   ]
  },
  {
   "cell_type": "markdown",
   "metadata": {},
   "source": [
    "La siguiente función se llama <code>gasto_por_comunidad_y_año</code>. Toma como entrada una lista de registros, y produce como salida un diccionario cuyas claves son las comunidades, y los valores son listas de tuplas que contienen cada año y el gasto en litros de ese año. La lista de cada comunidad estará ordenada en orden ascendente del año."
   ]
  },
  {
   "cell_type": "code",
   "execution_count": null,
   "metadata": {},
   "outputs": [],
   "source": [
    "def gasto_por_comunidad_y_año(registros):\n",
    "    ''' \n",
    "    Crea un diccionario donde las claves son las comunidades y los valores asociados \n",
    "    son listas de tuplas que contienen cada año y el gasto en litros de ese año.\n",
    "    La lista de cada comunidad estará ordenada en orden ascendente del año.\n",
    "    \n",
    "    ENTRADA:\n",
    "       - registros: lista de registros ->  [Aguas(str, int, str, int)]\n",
    "    SALIDA:\n",
    "       - diccionario con el gasto anual por comunidad -> {str: [(int,int)]}\n",
    "    '''\n",
    "    pass"
   ]
  },
  {
   "cell_type": "code",
   "execution_count": null,
   "metadata": {},
   "outputs": [],
   "source": [
    "# TEST de 'gasto_por_comunidad_y_año', la salida esperada es:\n",
    "#Gastos totales anuales para la Región de Murcia:\n",
    "\n",
    "#[(2000, 496364), (2001, 563734), (2002, 629710), (2003, 614442), (2004, 619956), (2005, 563066),\n",
    "#(2006, 527511), (2007, 551803), (2008, 521744), (2009, 526051), (2010, 507840), (2011, 574697),\n",
    "#(2012, 587658), (2013, 531099), (2014, 609319), (2015, 544267), (2016, 531117)]\n",
    "\n",
    "print('Gastos totales anuales para la Región de Murcia: ')\n",
    "print(gasto_por_comunidad_y_año(REGISTROS)['Región de Murcia'])"
   ]
  },
  {
   "cell_type": "markdown",
   "metadata": {},
   "source": [
    "## 3. Visualización (2 puntos)"
   ]
  },
  {
   "cell_type": "markdown",
   "metadata": {},
   "source": [
    "La función de visualización que implementaremos será <code>muestra_evolucion_gasto_comunidad</code>. Toma como entrada una lista de registros de gasto de agua y el nombre de una comunidad. Muestra un diagrama de barras con la evolución del gasto de agua en litros para dicha comunidad, teniendo en cuenta todos los tipos de cultivo. En el eje $X$ se reflejan los distintos años y en el eje $Y$ se refleja el consumo de agua total para cada año."
   ]
  },
  {
   "cell_type": "code",
   "execution_count": null,
   "metadata": {},
   "outputs": [],
   "source": [
    "def muestra_evolucion_gasto_comunidad(registros,comunidad):\n",
    "    '''\n",
    "    Dibuja un gráfico de barras que muestra la evolución del gasto de agua por año\n",
    "    para una comunidad determinada.\n",
    "    \n",
    "    ENTRADA:\n",
    "     - registros: lista de registros ->  [Aguas(str, int, str, int)]\n",
    "     - comunidad: nombre de una comunidad -> str\n",
    "     \n",
    "    SALIDA EN PANTALLA:\n",
    "        - diagrama de barras con la evolución del número de litros (eje Y) por año (eje X)\n",
    "           \n",
    "    Se usarán las siguientes instrucciones matplotlib para generar la gráfica:\n",
    "        plt.title('Número de litros por año para '+ comunidad)\n",
    "        plt.bar(range(len(numero_litros)), numero_litros, tick_label=años)\n",
    "        plt.xticks(rotation=75)\n",
    "        plt.show()\n",
    "            \n",
    "    Donde las dos variables usadas significan lo siguiente:\n",
    "        - años: lista con los valores de los años, ordenada de menor a mayor\n",
    "        - numero_litros: lista alineada con la anterior, con el número de litros\n",
    "        gastados en la comunidad dada en cada año.      \n",
    "    '''\n",
    "    pass"
   ]
  },
  {
   "cell_type": "code",
   "execution_count": null,
   "metadata": {},
   "outputs": [],
   "source": [
    "muestra_evolucion_gasto_comunidad(REGISTROS,'Andalucía')"
   ]
  },
  {
   "attachments": {
    "image.png": {
     "image/png": "[encoded data removed]"
    }
   },
   "cell_type": "markdown",
   "metadata": {},
   "source": [
    "La salida de la celda de test debería ser la siguiente:\n",
    "![image.png](attachment:image.png)"
   ]
  }
 ],
 "metadata": {
  "kernelspec": {
   "display_name": "Python 3",
   "language": "python",
   "name": "python3"
  },
  "language_info": {
   "codemirror_mode": {
    "name": "ipython",
    "version": 3
   },
   "file_extension": ".py",
   "mimetype": "text/x-python",
   "name": "python",
   "nbconvert_exporter": "python",
   "pygments_lexer": "ipython3",
   "version": "3.7.3"
  }
 },
 "nbformat": 4,
 "nbformat_minor": 2
}
