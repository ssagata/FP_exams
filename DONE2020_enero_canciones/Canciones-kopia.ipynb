{
 "cells": [
  {
   "cell_type": "markdown",
   "metadata": {},
   "source": [
    "# Fundamentos de la Programación (Grado en Ingeniería de la Salud)\n",
    "## Ejercicio \"Canciones\" (14 de enero de 2020)"
   ]
  },
  {
   "cell_type": "markdown",
   "metadata": {},
   "source": [
    "Antes de empezar, ejecutaremos la siguiente celda con las importaciones necesarias para poder realizar el ejercicio:"
   ]
  },
  {
   "cell_type": "code",
   "execution_count": null,
   "metadata": {},
   "outputs": [],
   "source": [
    "import csv\n",
    "from datetime import datetime\n",
    "from matplotlib import pyplot as plt\n",
    "from collections import namedtuple"
   ]
  },
  {
   "cell_type": "markdown",
   "metadata": {},
   "source": [
    "## 1. Carga de datos (0.5 puntos)"
   ]
  },
  {
   "cell_type": "markdown",
   "metadata": {},
   "source": [
    "Tomaremos la información de un fichero de entrada llamado <code>Spotify.csv</code> en el que se encuentran registrados datos de las canciones más escuchadas en 2019 en la plataforma _Soptify_. El fichero se encuentra en la carpeta <code>./data</code>. Cada línea del fichero de entrada contiene las siguientes informaciones:\n",
    "\n",
    "- **Track.Name:** título de la canción\n",
    "- **Artist.Name:** nombre del grupo o artista\n",
    "- **Genre:** género de la canción\n",
    "- **Energy:** grado de _energía_ de la canción\n",
    "- **Valence:** grado de _optimismo_ de la canción\n",
    "- **Popularity:** grado de popularidad de la canción\n",
    "\n",
    "He aquí un fragmento con las primeras líneas del fichero de entrada:\n",
    "\n",
    "<img src=\"./img/datos.png\" alt=\"Drawing\" style=\"width:14cm;\"/>\n",
    "\n",
    "\n",
    "La primera función que implementaremos será la de lectura. Será la encargada de leer los datos del fichero de entrada y cargarlos en una lista de tuplas:"
   ]
  },
  {
   "cell_type": "code",
   "execution_count": null,
   "metadata": {},
   "outputs": [],
   "source": [
    "Cancion = namedtuple('Cancion', 'titulo artista genero energia optimismo popularidad')\n",
    "\n",
    "def lee_canciones(fichero):\n",
    "    ''' Lee el fichero de entrada y devuelve una lista de registros\n",
    "    \n",
    "    ENTRADA:\n",
    "       - fichero: nombre del fichero de entrada\n",
    "    SALIDA:\n",
    "       - lista de registros -> [Cancion(str, str, str, int, int, int)]\n",
    "    '''\n",
    "    pass"
   ]
  },
  {
   "cell_type": "code",
   "execution_count": null,
   "metadata": {},
   "outputs": [],
   "source": [
    "# TEST de 'lee_canciones', la salida esperada es:\n",
    "# 50 [Cancion(titulo='Señorita', artista='Shawn Mendes', genero='canadian pop', energia=55, optimismo=75, popularidad=79), \n",
    "#     Cancion(titulo='China', artista='Anuel AA', genero='reggaeton flow', energia=81, optimismo=61, popularidad=92)]REGISTROS = lee_canciones('./data/Spotify.csv')\n",
    "REGISTROS = lee_canciones('./data/Spotify.csv')\n",
    "print(len(REGISTROS), REGISTROS[:2])"
   ]
  },
  {
   "cell_type": "markdown",
   "metadata": {},
   "source": [
    "## 2. Consulta y filtrado (7.5 puntos)"
   ]
  },
  {
   "cell_type": "markdown",
   "metadata": {},
   "source": [
    "Una vez que hemos cargado los datos en una estructura en memoria ya podemos empezar a procesarlos. En esta sección implementaremos algunas funciones de consulta y filtrado que nos permitirán trabajar con ellos.\n",
    "\n",
    "La primera función se llama <code>calcula_artistas_populares</code> y calcula el conjunto de artistas con al menos una canción popular. Se considerará popular a una canción que supere un umbral de puntos recibidos como parámetro:"
   ]
  },
  {
   "cell_type": "code",
   "execution_count": null,
   "metadata": {},
   "outputs": [],
   "source": [
    "def calcula_artistas_populares(registros, umbral_popularidad=90):\n",
    "    ''' Conjunto de artistas con al menos una canción popular\n",
    "    \n",
    "    ENTRADA:\n",
    "       - registros: lista de registros ->  [Cancion(str, str, str, int, int, int)]\n",
    "       - umbral_popularidad: valor a partir del cual se considera popular -> int\n",
    "    SALIDA:\n",
    "       - Artistas con al menos una canción que supere el umbral de popularidad -> {str}\n",
    "    '''\n",
    "    pass"
   ]
  },
  {
   "cell_type": "code",
   "execution_count": null,
   "metadata": {},
   "outputs": [],
   "source": [
    "# TEST de 'calcula_artistas_populares', la salida esperada es:\n",
    "#     {'Lil Tecca', 'Post Malone', 'Anuel AA', 'Bad Bunny', 'Drake', 'Billie Eilish'}\n",
    "#     {'Post Malone', 'Billie Eilish', 'Bad Bunny'}\n",
    "\n",
    "print(calcula_artistas_populares(REGISTROS, 91))\n",
    "print(calcula_artistas_populares(REGISTROS, 92))"
   ]
  },
  {
   "cell_type": "markdown",
   "metadata": {},
   "source": [
    "La siguiente función es <code>ordena_por_energia</code>. La función toma una lista de registros y los devuelve ordenados de mayor a menor _energía_ de la canción:"
   ]
  },
  {
   "cell_type": "code",
   "execution_count": null,
   "metadata": {},
   "outputs": [],
   "source": [
    "def ordena_por_energia(registros):\n",
    "    ''' Canciones ordenadas por energía\n",
    "\n",
    "    ENTRADA:\n",
    "       - registros: lista de registros ->  [Cancion(str, str, str, int, int, int)]\n",
    "    SALIDA:\n",
    "       - registros ordenados por energia ->  [Cancion(str, str, str, int, int, int)]\n",
    "    '''\n",
    "    pass"
   ]
  },
  {
   "cell_type": "code",
   "execution_count": null,
   "metadata": {},
   "outputs": [],
   "source": [
    "# TEST de 'ordena_por_energia', la salida esperada es:\n",
    "#     [Cancion(titulo='Never Really Over', artista='Katy Perry', genero='dance pop', energia=88, optimismo=39, popularidad=89), \n",
    "#      Cancion(titulo='Con Calma', artista='Daddy Yankee', genero='latin', energia=86, optimismo=66, popularidad=91), \n",
    "#      Cancion(titulo=\"If I Can't Have You\", artista='Shawn Mendes', genero='canadian pop', energia=82, optimismo=87, popularidad=70)]\n",
    "\n",
    "print(ordena_por_energia(REGISTROS)[:3])"
   ]
  },
  {
   "cell_type": "markdown",
   "metadata": {},
   "source": [
    "La siguiente función es <code>ordenacion_generica</code>. La función toma una lista de registros y los devuelve ordenados, de mayor a menor, en función del criterio recibido como parámetro:"
   ]
  },
  {
   "cell_type": "code",
   "execution_count": null,
   "metadata": {},
   "outputs": [],
   "source": [
    "def ordenacion_generica(registros, criterio):\n",
    "    ''' Canciones ordenadas, de mayor a menor, por un determinado criterio\n",
    "    \n",
    "    ENTRADA:\n",
    "       - registros: lista de registros ->  [Cancion(str, str, str, int, int, int)]\n",
    "       - criterio: nombre de función o expresión lambda -> function\n",
    "    SALIDA:\n",
    "       -  registros ordenados por el criterio ->  [Cancion(str, str, str, int, int, int)]\n",
    "    '''\n",
    "    pass"
   ]
  },
  {
   "cell_type": "code",
   "execution_count": null,
   "metadata": {},
   "outputs": [],
   "source": [
    "# EJERCICIO: implementar dos llamadas de TEST de 'ordenacion_generica' que obtengan:\n",
    "#   - Las tres canciones más populares\n",
    "#   - Las tres canciones más optimistas\n",
    "\n",
    "# Las salidas esperadas para estas consultas son:\n",
    "#   [Cancion(titulo='bad guy', artista='Billie Eilish', genero='electropop', energia=43, optimismo=56, popularidad=95), \n",
    "#    Cancion(titulo='Goodbyes (Feat. Young Thug)', artista='Post Malone', genero='dfw rap', energia=65, optimismo=18, popularidad=94), \n",
    "#    Cancion(titulo='Callaita', artista='Bad Bunny', genero='reggaeton', energia=62, optimismo=24, popularidad=93)]\n",
    "#\n",
    "#   [Cancion(titulo='Sucker', artista='Jonas Brothers', genero='boy band', energia=73, optimismo=95, popularidad=80), \n",
    "#    Cancion(titulo='QUE PRETENDES', artista='J Balvin', genero='latin', energia=79, optimismo=94, popularidad=89), \n",
    "#    Cancion(titulo='Sunflower - Spider-Man: Into the Spider-Verse', artista='Post Malone', genero='dfw rap', energia=48, optimismo=91, popularidad=91)]\n",
    "\n",
    "pass"
   ]
  },
  {
   "cell_type": "markdown",
   "metadata": {},
   "source": [
    "La siguiente función se llama <code>numero_canciones_por_genero</code>. Toma como entrada una lista de registros, y produce como salida un diccionario cuyas claves son los generos, y los valores son el número de canciones de cada género."
   ]
  },
  {
   "cell_type": "code",
   "execution_count": null,
   "metadata": {},
   "outputs": [],
   "source": [
    "def numero_canciones_por_genero(registros):\n",
    "    ''' Crea un diccionario con el número de canciones de cada género\n",
    "    \n",
    "    ENTRADA:\n",
    "       - registros: lista de registros ->  [Cancion(str, str, str, int, int, int)]\n",
    "    SALIDA:\n",
    "       - diccionario con el número de canciones de cada género -> {str: int}\n",
    "    '''\n",
    "    pass"
   ]
  },
  {
   "cell_type": "code",
   "execution_count": null,
   "metadata": {},
   "outputs": [],
   "source": [
    "# TEST  de 'numero_canciones_por_genero', la salida esperada es:\n",
    "#   dance pop             ->  8\n",
    "#   pop                   ->  7\n",
    "#   latin                 ->  5\n",
    "#   canadian hip hop      ->  3\n",
    "#   edm                   ->  3\n",
    "#   brostep               ->  2\n",
    "#   electropop            ->  2\n",
    "#   canadian pop          ->  2\n",
    "#   country rap           ->  2\n",
    "#   panamanian pop        ->  2\n",
    "#   reggaeton flow        ->  2\n",
    "#   dfw rap               ->  2\n",
    "#   reggaeton             ->  2\n",
    "#   escape room           ->  1\n",
    "#   big room              ->  1\n",
    "#   pop house             ->  1\n",
    "#   australian pop        ->  1\n",
    "#   atl hip hop           ->  1\n",
    "#   trap music            ->  1\n",
    "#   boy band              ->  1\n",
    "#   r&b en espanol        ->  1\n",
    "\n",
    "frecuencias = numero_canciones_por_genero(REGISTROS)\n",
    "generos = sorted(frecuencias, reverse=True, key=lambda g:frecuencias.get(g))\n",
    "\n",
    "for g in generos:\n",
    "    print(\"{:20}  ->{:3}\".format(g, frecuencias[g]))"
   ]
  },
  {
   "cell_type": "markdown",
   "metadata": {},
   "source": [
    "## 3. Visualización (2 puntos)"
   ]
  },
  {
   "cell_type": "markdown",
   "metadata": {},
   "source": [
    "La función de visualización que implementaremos será <code>muestra_relacion_energia_optimismo</code>. Toma como entrada una lista de canciones y un umbral de popularidad, y muestra un diagrama de puntos para las canciones que superen el umbral. Cada canción se representará mediante un punto, en el eje $X$ se refleja la energía de la canción y en el eje $Y$ se refleja el optimismo."
   ]
  },
  {
   "cell_type": "code",
   "execution_count": null,
   "metadata": {},
   "outputs": [],
   "source": [
    "def muestra_relacion_energia_optimismo(registros, umbral_popularidad=90):\n",
    "    ''' Genera un diagrama de puntos con la relación energía/optimismo de las canciones más populares\n",
    "    \n",
    "    ENTRADA:\n",
    "        - registros: lista de registros ->  [Cancion(str, str, str, int, int, int)]\n",
    "        - umbral_popularidad: valor a partir del cual se considera popular -> int\n",
    "    SALIDA EN PANTALLA:\n",
    "        - diagrama de puntos con la relación energía/optimismo en los ejes X e Y respectivamente\n",
    "           \n",
    "    Se usarán las siguientes instrucciones matplotlib para generar la gráfica:\n",
    "        plt.scatter(energias, optimismos)\n",
    "        plt.show()\n",
    "            \n",
    "    Donde las dos variables usadas significan lo siguiente:\n",
    "        - energias: lista de valores de energia para las canciones seleccionadas\n",
    "        - optimismos: lista (alineada con la anterior) con los valores de optimismo\n",
    "    '''\n",
    "    pass"
   ]
  },
  {
   "cell_type": "code",
   "execution_count": null,
   "metadata": {},
   "outputs": [],
   "source": [
    "muestra_relacion_energia_optimismo(REGISTROS)"
   ]
  },
  {
   "cell_type": "markdown",
   "metadata": {},
   "source": [
    "La salida de la celda de test debería ser la siguiente:\n",
    "\n",
    "<img src=\"./img/test.png\" alt=\"Drawing\" style=\"width:8cm;\"/>"
   ]
  }
 ],
 "metadata": {
  "kernelspec": {
   "display_name": "Python 3",
   "language": "python",
   "name": "python3"
  },
  "language_info": {
   "codemirror_mode": {
    "name": "ipython",
    "version": 3
   },
   "file_extension": ".py",
   "mimetype": "text/x-python",
   "name": "python",
   "nbconvert_exporter": "python",
   "pygments_lexer": "ipython3",
   "version": "3.7.3"
  }
 },
 "nbformat": 4,
 "nbformat_minor": 2
}
