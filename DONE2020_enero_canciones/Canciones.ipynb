{
 "cells": [
  {
   "cell_type": "markdown",
   "source": [
    "# Fundamentos de la Programación (Grado en Ingeniería de la Salud)\n",
    "## Ejercicio \"Canciones\" (14 de enero de 2020)"
   ],
   "metadata": {}
  },
  {
   "cell_type": "markdown",
   "source": [
    "Antes de empezar, ejecutaremos la siguiente celda con las importaciones necesarias para poder realizar el ejercicio:"
   ],
   "metadata": {}
  },
  {
   "cell_type": "code",
   "execution_count": 66,
   "source": [
    "import csv\n",
    "from datetime import datetime\n",
    "from matplotlib import pyplot as plt\n",
    "from collections import namedtuple\n",
    "from collections import Container\n",
    "from collections import Counter\n"
   ],
   "outputs": [],
   "metadata": {}
  },
  {
   "cell_type": "markdown",
   "source": [
    "## 1. Carga de datos (0.5 puntos)"
   ],
   "metadata": {}
  },
  {
   "cell_type": "markdown",
   "source": [
    "We will take the information from an input file called <code>Spotify.csv</code> in which data of the most listened to songs in 2019 on the _Soptify_ platform are registered. The file is located in the <code>./data</code> folder. Each line of the input file contains the following information:\n",
    "\n",
    "- **Track.Name:** song title\n",
    "- **Artist.Name:** name of the group or artist\n",
    "- **Genre:** song genre\n",
    "- **Energy:** degree of _energy_ of the song\n",
    "- **Valence:** degree of _optimism_ of the song\n",
    "- **Popularity:** degree of popularity of the song\n",
    "\n",
    "Here is a snippet with the first few lines of the input file:\n",
    "\n",
    "<img src=\"./img/data.png\" alt=\"Drawing\" style=\"width:14cm;\"/>\n",
    "\n",
    "\n",
    "The first function we will implement will be the read function. It will be in charge of reading the data from the input file and loading it into a list of tuples:"
   ],
   "metadata": {}
  },
  {
   "cell_type": "code",
   "execution_count": 17,
   "source": [
    "Song = namedtuple('Song', 'title artist genre energy valence popularity')\n",
    "\n",
    "def read_file(file):\n",
    "    songs = []\n",
    "    with open(file, encoding='utf-8') as f:\n",
    "        reader = csv.reader(f)\n",
    "        next(reader)\n",
    "        songs = [Song((title), artist, genre, int(energy), int(valence), int(popularity) )\n",
    "        for title, artist, genre, energy, valence, popularity in reader]\n",
    "\n",
    "    return songs\n"
   ],
   "outputs": [],
   "metadata": {}
  },
  {
   "cell_type": "code",
   "execution_count": 19,
   "source": [
    "REGISTROS = read_file('./data/Spotify.csv')\n",
    "print(len(REGISTROS), REGISTROS[:2])"
   ],
   "outputs": [
    {
     "output_type": "stream",
     "name": "stdout",
     "text": [
      "50 [Song(title='Señorita', artist='Shawn Mendes', genre='canadian pop', energy=55, valence=75, popularity=79), Song(title='China', artist='Anuel AA', genre='reggaeton flow', energy=81, valence=61, popularity=92)]\n"
     ]
    }
   ],
   "metadata": {}
  },
  {
   "cell_type": "markdown",
   "source": [
    "## 2. Consulta y filtrado (7.5 puntos)"
   ],
   "metadata": {}
  },
  {
   "cell_type": "markdown",
   "source": [
    "Once we have loaded the data into a memory structure we can start processing it. In this section we will implement some query and filter functions that will allow us to work with them.\n",
    "\n",
    "The first function is called <code>calculate_popular_artists</code> and it calculates the set of artists with at least one popular song. A song that exceeds a threshold of points received as a parameter will be considered popular:"
   ],
   "metadata": {}
  },
  {
   "cell_type": "code",
   "execution_count": 49,
   "source": [
    "def calculate_popular_artists(file, given_popularity = 91):\n",
    "    return set([f.artist for f in file if f.popularity > given_popularity])\n",
    "    #return {r.artist for r in file if r.popularity>given_popularity}\n",
    " \n",
    "print(calculate_popular_artists(REGISTROS,92))"
   ],
   "outputs": [
    {
     "output_type": "stream",
     "name": "stdout",
     "text": [
      "{'Post Malone', 'Billie Eilish', 'Bad Bunny'}\n"
     ]
    }
   ],
   "metadata": {}
  },
  {
   "cell_type": "markdown",
   "source": [
    "The next function is <code>order_by_energy</code>. The function takes a list of records and returns them in order from highest to lowest _energy_ of the song:"
   ],
   "metadata": {}
  },
  {
   "cell_type": "code",
   "execution_count": 57,
   "source": [
    "def order_by_energy(file):\n",
    "    return sorted(file, key= lambda f:f.energy,  reverse= True)\n",
    "\n",
    "print(order_by_energy(REGISTROS)[:3])"
   ],
   "outputs": [
    {
     "output_type": "stream",
     "name": "stdout",
     "text": [
      "[Song(title='Never Really Over', artist='Katy Perry', genre='dance pop', energy=88, valence=39, popularity=89), Song(title='Con Calma', artist='Daddy Yankee', genre='latin', energy=86, valence=66, popularity=91), Song(title=\"If I Can't Have You\", artist='Shawn Mendes', genre='canadian pop', energy=82, valence=87, popularity=70)]\n"
     ]
    }
   ],
   "metadata": {}
  },
  {
   "cell_type": "markdown",
   "source": [
    "The next function is <code>generic_ordering</code>. The function takes a list of records and returns them ordered, from highest to lowest, based on the criteria received as a parameter:"
   ],
   "metadata": {}
  },
  {
   "cell_type": "code",
   "execution_count": 62,
   "source": [
    "def generic_ordering(file, criterio):\n",
    "    return sorted(file, key= criterio, reverse= True)\n",
    "\n",
    "# EJERCICIO: implementar dos llamadas de TEST de 'ordenacion_generica' que obtengan:\n",
    "#   - Las tres canciones más populares\n",
    "#   - Las tres canciones más optimistas\n",
    "\n",
    "generic_ordering(REGISTROS, lambda p: p.popularity)[:3]\n",
    "generic_ordering(REGISTROS, lambda o: o.valence)[:3]\n",
    "    "
   ],
   "outputs": [
    {
     "output_type": "execute_result",
     "data": {
      "text/plain": [
       "[Song(title='Sucker', artist='Jonas Brothers', genre='boy band', energy=73, valence=95, popularity=80),\n",
       " Song(title='QUE PRETENDES', artist='J Balvin', genre='latin', energy=79, valence=94, popularity=89),\n",
       " Song(title='Sunflower - Spider-Man: Into the Spider-Verse', artist='Post Malone', genre='dfw rap', energy=48, valence=91, popularity=91)]"
      ]
     },
     "metadata": {},
     "execution_count": 62
    }
   ],
   "metadata": {}
  },
  {
   "cell_type": "markdown",
   "source": [
    "The following function is called <code>number_songs_by_genre</code>. It takes as input a list of records, and produces as output a dictionary whose keys are the genres, and the values are the number of songs of each genre."
   ],
   "metadata": {}
  },
  {
   "cell_type": "code",
   "execution_count": null,
   "source": [
    "def numero_canciones_por_genero(registros):\n",
    "    ''' Crea un diccionario con el número de canciones de cada género\n",
    "    \n",
    "    ENTRADA:\n",
    "       - registros: lista de registros ->  [Cancion(str, str, str, int, int, int)]\n",
    "    SALIDA:\n",
    "       - diccionario con el número de canciones de cada género -> {str: int}\n",
    "    '''\n",
    "    pass"
   ],
   "outputs": [],
   "metadata": {}
  },
  {
   "cell_type": "code",
   "execution_count": 74,
   "source": [
    "def number_songs_by_genre(file):\n",
    "    dict_ = {}\n",
    "    genres = {f.genre for f in file}\n",
    "    for g in genres:\n",
    "        dict_[g] = len([f for f in file if f.genre == g])\n",
    "    return dict_\n",
    "\n",
    "number_songs_by_genre(REGISTROS)\n"
   ],
   "outputs": [
    {
     "output_type": "execute_result",
     "data": {
      "text/plain": [
       "{'country rap': 2,\n",
       " 'edm': 3,\n",
       " 'dfw rap': 2,\n",
       " 'reggaeton': 2,\n",
       " 'panamanian pop': 2,\n",
       " 'canadian hip hop': 3,\n",
       " 'boy band': 1,\n",
       " 'r&b en espanol': 1,\n",
       " 'brostep': 2,\n",
       " 'trap music': 1,\n",
       " 'pop house': 1,\n",
       " 'dance pop': 8,\n",
       " 'canadian pop': 2,\n",
       " 'electropop': 2,\n",
       " 'latin': 5,\n",
       " 'escape room': 1,\n",
       " 'big room': 1,\n",
       " 'reggaeton flow': 2,\n",
       " 'australian pop': 1,\n",
       " 'pop': 7,\n",
       " 'atl hip hop': 1}"
      ]
     },
     "metadata": {},
     "execution_count": 74
    }
   ],
   "metadata": {}
  },
  {
   "cell_type": "code",
   "execution_count": 75,
   "source": [
    "frecuencias = number_songs_by_genre(REGISTROS)\n",
    "generos = sorted(frecuencias, reverse=True, key=lambda g:frecuencias.get(g))\n",
    "\n",
    "for g in generos:\n",
    "    print(\"{:20}  ->{:3}\".format(g, frecuencias[g]))"
   ],
   "outputs": [
    {
     "output_type": "stream",
     "name": "stdout",
     "text": [
      "dance pop             ->  8\n",
      "pop                   ->  7\n",
      "latin                 ->  5\n",
      "edm                   ->  3\n",
      "canadian hip hop      ->  3\n",
      "country rap           ->  2\n",
      "dfw rap               ->  2\n",
      "reggaeton             ->  2\n",
      "panamanian pop        ->  2\n",
      "brostep               ->  2\n",
      "canadian pop          ->  2\n",
      "electropop            ->  2\n",
      "reggaeton flow        ->  2\n",
      "boy band              ->  1\n",
      "r&b en espanol        ->  1\n",
      "trap music            ->  1\n",
      "pop house             ->  1\n",
      "escape room           ->  1\n",
      "big room              ->  1\n",
      "australian pop        ->  1\n",
      "atl hip hop           ->  1\n"
     ]
    }
   ],
   "metadata": {}
  },
  {
   "cell_type": "markdown",
   "source": [
    "## 3. Visualización (2 puntos)"
   ],
   "metadata": {}
  },
  {
   "cell_type": "markdown",
   "source": [
    "The display function that we will implement will be <code>show_optimism_energy_relationship</code>. It takes as input a list of songs and a popularity threshold, and displays a dot plot for songs that exceed the threshold. Each song will be represented by a point, on the $X$ axis the energy of the song is reflected and on the $Y$ axis the optimism is reflected."
   ],
   "metadata": {}
  },
  {
   "cell_type": "code",
   "execution_count": null,
   "source": [
    "def muestra_relacion_energia_optimismo(registros, umbral_popularidad=90):\n",
    "    ''' Genera un diagrama de puntos con la relación energía/optimismo de las canciones más populares\n",
    "    \n",
    "    ENTRADA:\n",
    "        - registros: lista de registros ->  [Cancion(str, str, str, int, int, int)]\n",
    "        - umbral_popularidad: valor a partir del cual se considera popular -> int\n",
    "    SALIDA EN PANTALLA:\n",
    "        - diagrama de puntos con la relación energía/optimismo en los ejes X e Y respectivamente\n",
    "           \n",
    "    Se usarán las siguientes instrucciones matplotlib para generar la gráfica:\n",
    "        plt.scatter(energias, optimismos)\n",
    "        plt.show()\n",
    "            \n",
    "    Donde las dos variables usadas significan lo siguiente:\n",
    "        - energias: lista de valores de energia para las canciones seleccionadas\n",
    "        - optimismos: lista (alineada con la anterior) con los valores de optimismo\n",
    "    '''\n",
    "    pass"
   ],
   "outputs": [],
   "metadata": {}
  },
  {
   "cell_type": "code",
   "execution_count": 80,
   "source": [
    "def show_optimism_energy_relationship(file, given_popularity = 90):\n",
    "\n",
    "    #populares = [f for f in file if f.popularity > given_popularity]\n",
    "    #energias = [f.energy for f in populares]\n",
    "    #optimismos = [f.valence for f in populares ]\n",
    "    energias = [f.energy for f in file if f.popularity > given_popularity]\n",
    "    optimismos = [f.valence for f in file if f.popularity > given_popularity ]\n",
    "\n",
    "    plt.scatter(energias, optimismos)\n",
    "    plt.show()\n",
    " \n",
    "\n",
    "\n"
   ],
   "outputs": [],
   "metadata": {}
  },
  {
   "cell_type": "code",
   "execution_count": 81,
   "source": [
    "show_optimism_energy_relationship(REGISTROS)"
   ],
   "outputs": [
    {
     "output_type": "display_data",
     "data": {
      "image/png": "[encoded data removed]",
      "text/plain": [
       "<Figure size 432x288 with 1 Axes>"
      ]
     },
     "metadata": {
      "needs_background": "light"
     }
    }
   ],
   "metadata": {}
  },
  {
   "cell_type": "markdown",
   "source": [
    "La salida de la celda de test debería ser la siguiente:\n",
    "\n",
    "<img src=\"./img/test.png\" alt=\"Drawing\" style=\"width:8cm;\"/>"
   ],
   "metadata": {}
  }
 ],
 "metadata": {
  "kernelspec": {
   "name": "python3",
   "display_name": "Python 3.8.8 64-bit ('base': conda)"
  },
  "language_info": {
   "codemirror_mode": {
    "name": "ipython",
    "version": 3
   },
   "file_extension": ".py",
   "mimetype": "text/x-python",
   "name": "python",
   "nbconvert_exporter": "python",
   "pygments_lexer": "ipython3",
   "version": "3.8.8"
  },
  "interpreter": {
   "hash": "2c667c7a07b629c8e851de71d2f299541044052ae3e814b6e0fc3f3030f67cae"
  }
 },
 "nbformat": 4,
 "nbformat_minor": 2
}