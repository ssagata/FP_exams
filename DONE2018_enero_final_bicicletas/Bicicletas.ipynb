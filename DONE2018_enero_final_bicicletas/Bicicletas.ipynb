{
 "cells": [
  {
   "cell_type": "markdown",
   "source": [
    "# Prueba de laboratorio: Bicicletas\n",
    "**Fecha:** 23/01/2018"
   ],
   "metadata": {}
  },
  {
   "cell_type": "markdown",
   "source": [
    "Antes de empezar, ejecutaremos la siguiente celda con las importaciones necesarias para poder realizar el ejercicio:"
   ],
   "metadata": {}
  },
  {
   "cell_type": "code",
   "execution_count": 3,
   "source": [
    "import csv\n",
    "from matplotlib import pylab as plt\n",
    "from collections import namedtuple\n"
   ],
   "outputs": [],
   "metadata": {
    "collapsed": true
   }
  },
  {
   "cell_type": "markdown",
   "source": [
    "## 1. Carga de datos (2 puntos)"
   ],
   "metadata": {}
  },
  {
   "cell_type": "markdown",
   "source": [
    "We will take the data from an input file called <code>bicicletas.csv</code> in which the use of a bicycle rental system is registered. The file is located in the <code>./csv</code> folder. Each line of the input file contains seven pieces of information regarding the date, time, weather conditions and number of bikes rented:\n",
    "\n",
    "- month: from 1 to 12\n",
    "- day: from 0 (Sunday) to 6 (Saturday)\n",
    "- hour: from 0 to 23\n",
    "- temperature: air temperature\n",
    "- humidity: relative humidity\n",
    "- wind: wind speed\n",
    "- rented: number of bikes rented\n",
    "\n",
    "Here is a snippet with the first few lines of the input file:\n",
    "<pre>\n",
    "    month, day, hour, temperature, humidity, wind, rented\n",
    "    1,6,0,0.24,0.81,0.0,16\n",
    "    1,6,1,0.22,0.8,0.0,40\n",
    "    1,6,2,0.22,0.8,0.0,32\n",
    "    1,6,3,0.24,0.75,0.0,13\n",
    "    1,6,4,0.24,0.75,0.0,1\n",
    "</pre>\n",
    "\n",
    "The first function we will implement will be the read function. It will be in charge of reading the data from the input file and loading it into a list of tuples:"
   ],
   "metadata": {}
  },
  {
   "cell_type": "code",
   "execution_count": 5,
   "source": [
    "Bike = namedtuple('Bike', 'month day hour temp humidity wind rented')\n",
    "\n",
    "def read_file(file):\n",
    "    bikes = []\n",
    "    with open(file, encoding='utf-8') as f:\n",
    "        reader = csv.reader(f)\n",
    "        next(reader)\n",
    "        bikes = [Bike( int(month), int(day), int(hour), float(temp), float(humidity), float(wind), int(rented))\n",
    "        for month, day, hour, temp, humidity, wind, rented in reader]\n",
    "    return bikes\n",
    "\n",
    "DATA = read_file('./csv/bicicletas.csv')\n",
    "print(len(DATA), DATA[:2])\n",
    "\n",
    "\n"
   ],
   "outputs": [
    {
     "output_type": "stream",
     "name": "stdout",
     "text": [
      "17379 [Bike(month=1, day=6, hour=0, temp=0.24, humidity=0.81, wind=0.0, rented=16), Bike(month=1, day=6, hour=1, temp=0.22, humidity=0.8, wind=0.0, rented=40)]\n"
     ]
    }
   ],
   "metadata": {}
  },
  {
   "cell_type": "markdown",
   "source": [
    "## 2. Consulta y filtrado (6 puntos)"
   ],
   "metadata": {
    "collapsed": true
   }
  },
  {
   "cell_type": "markdown",
   "source": [
    "Once we have loaded the data into a memory structure we can start processing it. In this section we will implement some query and filter functions that will allow us to work with them.\n",
    "\n",
    "The first function we will implement is called <code>weekend_proportion</code>. The function takes a list of record tuples and calculates what proportion of bikes are rented on weekends:"
   ],
   "metadata": {}
  },
  {
   "cell_type": "code",
   "execution_count": 10,
   "source": [
    "def weekend_proportion(file):\n",
    "    week_rent = sum([f.rented for f in file ])\n",
    "    weekend = sum([f.rented for f in file if f.day == 6 or f.day == 0])\n",
    "    proporcion = weekend/week_rent\n",
    "    return proporcion\n",
    "\n",
    "weekend_proportion(DATA)"
   ],
   "outputs": [
    {
     "output_type": "execute_result",
     "data": {
      "text/plain": [
       "0.27996473388386783"
      ]
     },
     "metadata": {},
     "execution_count": 10
    }
   ],
   "metadata": {}
  },
  {
   "cell_type": "markdown",
   "source": [
    "The second function is called <code>filter_by_months</code>. Take a list of records and a list of months, and select only the records for the indicated months:"
   ],
   "metadata": {}
  },
  {
   "cell_type": "code",
   "execution_count": 22,
   "source": [
    "def filter_by_months(file, given_months):\n",
    "        return [f for f in file if f.month in given_months]\n",
    "\n",
    "filtrados = filter_by_months(DATA, [2,3,4] )\n",
    "print(len(filtrados), filtrados[-2:])"
   ],
   "outputs": [
    {
     "output_type": "stream",
     "name": "stdout",
     "text": [
      "4251 [Bike(month=4, day=1, hour=22, temp=0.52, humidity=0.55, wind=0.1642, rented=134), Bike(month=4, day=1, hour=23, temp=0.52, humidity=0.55, wind=0.2239, rented=60)]\n"
     ]
    }
   ],
   "metadata": {}
  },
  {
   "cell_type": "markdown",
   "source": [
    "The last function in this section is called <code>group_by_days</code>. It takes as input a list of records, and produces as output a dictionary whose keys are days. The dictionary values are the lists of records corresponding to each day."
   ],
   "metadata": {}
  },
  {
   "cell_type": "code",
   "execution_count": 27,
   "source": [
    "def group_by_days(file):\n",
    "    dict_ = {}\n",
    "    days = {f.day for f in file }\n",
    "    for d in days:\n",
    "        dict_[d] = [f for f in file if f.day == d]\n",
    "    return dict_\n",
    "\n",
    "grupos = group_by_days(DATA)\n",
    "for dia in grupos:\n",
    "    print(dia, len(grupos[dia]), grupos[dia][:2])\n"
   ],
   "outputs": [
    {
     "output_type": "stream",
     "name": "stdout",
     "text": [
      "0 2502 [Bike(month=1, day=0, hour=0, temp=0.46, humidity=0.88, wind=0.2985, rented=17), Bike(month=1, day=0, hour=1, temp=0.44, humidity=0.94, wind=0.2537, rented=17)]\n",
      "1 2479 [Bike(month=1, day=1, hour=0, temp=0.22, humidity=0.44, wind=0.3582, rented=5), Bike(month=1, day=1, hour=1, temp=0.2, humidity=0.44, wind=0.4179, rented=2)]\n",
      "2 2453 [Bike(month=1, day=2, hour=0, temp=0.16, humidity=0.55, wind=0.1045, rented=5), Bike(month=1, day=2, hour=1, temp=0.16, humidity=0.59, wind=0.1045, rented=2)]\n",
      "3 2475 [Bike(month=1, day=3, hour=0, temp=0.2, humidity=0.64, wind=0.0, rented=6), Bike(month=1, day=3, hour=1, temp=0.16, humidity=0.74, wind=0.0896, rented=6)]\n",
      "4 2471 [Bike(month=1, day=4, hour=0, temp=0.18, humidity=0.55, wind=0.0, rented=11), Bike(month=1, day=4, hour=1, temp=0.16, humidity=0.64, wind=0.0, rented=4)]\n",
      "5 2487 [Bike(month=1, day=5, hour=0, temp=0.2, humidity=0.64, wind=0.19399999999999998, rented=17), Bike(month=1, day=5, hour=1, temp=0.2, humidity=0.69, wind=0.2239, rented=7)]\n",
      "6 2512 [Bike(month=1, day=6, hour=0, temp=0.24, humidity=0.81, wind=0.0, rented=16), Bike(month=1, day=6, hour=1, temp=0.22, humidity=0.8, wind=0.0, rented=40)]\n"
     ]
    }
   ],
   "metadata": {}
  },
  {
   "cell_type": "markdown",
   "source": [
    "## 3. Visualización (2 puntos)"
   ],
   "metadata": {}
  },
  {
   "cell_type": "markdown",
   "source": [
    "The display function that we will implement will be <code>show_distribution_days</code>. It takes as input a list of records, and generates a bar chart in which each bar corresponds to the total number of bicycles rented on one day of the week."
   ],
   "metadata": {}
  },
  {
   "cell_type": "code",
   "execution_count": 31,
   "source": [
    "def show_distribution_days(file):\n",
    "    nombres_dias = ['Domingo', 'Lunes', 'Martes', 'Miércoles', 'Jueves', 'Viernes', 'Sábado']\n",
    "    grouped_days = group_by_days(file)\n",
    "    days = list(grouped_days.keys())\n",
    "\n",
    "    conteos_dias = []\n",
    "    for d in days:\n",
    "        sth = [f.rented for f in grouped_days[d]]\n",
    "        conteos_dias.append(sum(sth))\n",
    "    \n",
    "    plt.bar(range(len(nombres_dias)), conteos_dias, tick_label=nombres_dias)\n",
    "    plt.show()\n",
    "\n",
    "show_distribution_days(DATA)"
   ],
   "outputs": [
    {
     "output_type": "display_data",
     "data": {
      "image/png": "[encoded data removed]",
      "text/plain": [
       "<Figure size 432x288 with 1 Axes>"
      ]
     },
     "metadata": {
      "needs_background": "light"
     }
    }
   ],
   "metadata": {}
  },
  {
   "cell_type": "markdown",
   "source": [
    "La salida de la celda de test debería ser la siguiente:\n",
    "![title](./diagrama_barras.png)"
   ],
   "metadata": {}
  }
 ],
 "metadata": {
  "kernelspec": {
   "name": "python3",
   "display_name": "Python 3.8.8 64-bit ('base': conda)"
  },
  "language_info": {
   "codemirror_mode": {
    "name": "ipython",
    "version": 3
   },
   "file_extension": ".py",
   "mimetype": "text/x-python",
   "name": "python",
   "nbconvert_exporter": "python",
   "pygments_lexer": "ipython3",
   "version": "3.8.8"
  },
  "interpreter": {
   "hash": "2c667c7a07b629c8e851de71d2f299541044052ae3e814b6e0fc3f3030f67cae"
  }
 },
 "nbformat": 4,
 "nbformat_minor": 2
}